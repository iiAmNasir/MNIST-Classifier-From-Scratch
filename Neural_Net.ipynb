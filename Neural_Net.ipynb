{
 "cells": [
  {
   "cell_type": "markdown",
   "metadata": {},
   "source": [
    "# Import Useful libraries"
   ]
  },
  {
   "cell_type": "code",
   "execution_count": 1,
   "metadata": {
    "_cell_guid": "b1076dfc-b9ad-4769-8c92-a6c4dae69d19",
    "_uuid": "8f2839f25d086af736a60e9eeb907d3b93b6e0e5",
    "execution": {
     "iopub.execute_input": "2021-12-08T18:15:18.640579Z",
     "iopub.status.busy": "2021-12-08T18:15:18.640239Z",
     "iopub.status.idle": "2021-12-08T18:15:18.651607Z",
     "shell.execute_reply": "2021-12-08T18:15:18.650803Z",
     "shell.execute_reply.started": "2021-12-08T18:15:18.640513Z"
    }
   },
   "outputs": [],
   "source": [
    "import numpy as np \n",
    "import pandas as pd\n",
    "import math\n",
    "import os"
   ]
  },
  {
   "cell_type": "markdown",
   "metadata": {},
   "source": [
    "# Activation Functions"
   ]
  },
  {
   "cell_type": "code",
   "execution_count": 6,
   "metadata": {
    "_uuid": "457ba67e9ac9457de158a51dae78a58062082720",
    "execution": {
     "iopub.execute_input": "2021-12-08T18:15:26.818505Z",
     "iopub.status.busy": "2021-12-08T18:15:26.818148Z",
     "iopub.status.idle": "2021-12-08T18:15:26.824693Z",
     "shell.execute_reply": "2021-12-08T18:15:26.823509Z",
     "shell.execute_reply.started": "2021-12-08T18:15:26.818429Z"
    }
   },
   "outputs": [],
   "source": [
    "\n",
    "def sigmoid(Z):\n",
    "    A = 1/(1+np.exp(-Z))\n",
    "    cache = Z\n",
    "    return A, cache\n",
    "\n",
    "def relu(Z):\n",
    "    A = np.maximum(0,Z)    \n",
    "    cache = Z \n",
    "    return A, cache\n",
    "\n",
    "def softmax(Z):\n",
    "    e_x = np.exp(Z)\n",
    "    A= e_x / np.sum(np.exp(Z))  \n",
    "    cache=Z\n",
    "    return A,cache   "
   ]
  },
  {
   "cell_type": "markdown",
   "metadata": {},
   "source": [
    "# Back Propagation"
   ]
  },
  {
   "cell_type": "code",
   "execution_count": 7,
   "metadata": {
    "_uuid": "af371709dc246bdb5fcbb1de97a0671d03deff1f",
    "execution": {
     "iopub.execute_input": "2021-12-08T18:15:26.826822Z",
     "iopub.status.busy": "2021-12-08T18:15:26.826287Z",
     "iopub.status.idle": "2021-12-08T18:15:26.836415Z",
     "shell.execute_reply": "2021-12-08T18:15:26.835683Z",
     "shell.execute_reply.started": "2021-12-08T18:15:26.826569Z"
    }
   },
   "outputs": [],
   "source": [
    "def relu_backward(dA, cache):\n",
    "    Z = cache\n",
    "    dZ = np.array(dA, copy=True)\n",
    "    dZ[Z <= 0] = 0\n",
    "    assert (dZ.shape == Z.shape)\n",
    "    return dZ\n",
    "\n",
    "def sigmoid_backward(dA, cache):    \n",
    "    Z = cache\n",
    "    s = 1/(1+np.exp(-Z))\n",
    "    dZ = dA * s * (1-s)\n",
    "    assert (dZ.shape == Z.shape)\n",
    "    return dZ\n",
    "\n",
    "def softmax_backward(Z,cache):\n",
    "    Z=cache\n",
    "    length=10  \n",
    "    dZ=np.zeros((42000,10))\n",
    "    Z=np.transpose(Z)\n",
    "    for row in range (0,42000):\n",
    "            den=(np.sum(np.exp(Z[row,:])))*(np.sum(np.exp(Z[row,:])))\n",
    "            for col in range (0,10):\n",
    "                sums=0\n",
    "                for j in range (0,10):\n",
    "                    if (j!=col):\n",
    "                        sums=sums+(math.exp(Z[row,j]))\n",
    "                \n",
    "                dZ[row,col]=(math.exp(Z[row,col])*sums)/den           \n",
    "    dZ=np.transpose(dZ)\n",
    "    Z=np.transpose(Z)\n",
    "\n",
    "    assert (dZ.shape == Z.shape)\n",
    "    return dZ"
   ]
  },
  {
   "cell_type": "markdown",
   "metadata": {},
   "source": [
    "# Parameter Initialization of Neural Network"
   ]
  },
  {
   "cell_type": "code",
   "execution_count": 8,
   "metadata": {
    "_uuid": "2fd14dce4aa75ceceb2a84ccae4721da7223fcba",
    "execution": {
     "iopub.execute_input": "2021-12-08T18:15:26.838137Z",
     "iopub.status.busy": "2021-12-08T18:15:26.837833Z",
     "iopub.status.idle": "2021-12-08T18:15:26.851709Z",
     "shell.execute_reply": "2021-12-08T18:15:26.851068Z",
     "shell.execute_reply.started": "2021-12-08T18:15:26.838085Z"
    }
   },
   "outputs": [],
   "source": [
    "def initialize_parameters_deep(layer_dims):\n",
    "    #np.random.seed(1)\n",
    "    parameters = {}\n",
    "    L = len(layer_dims)            # number of layers in the network\n",
    "    \n",
    "    for l in range(1, L):\n",
    "        parameters['W' + str(l)] = np.random.randn(layer_dims[l], layer_dims[l-1]) / np.sqrt(layer_dims[l-1]) #*0.01\n",
    "        parameters['b' + str(l)] = np.zeros((layer_dims[l], 1))\n",
    "    \n",
    "    return parameters"
   ]
  },
  {
   "cell_type": "markdown",
   "metadata": {},
   "source": [
    "# Forward Pass"
   ]
  },
  {
   "cell_type": "code",
   "execution_count": 9,
   "metadata": {
    "_uuid": "5ee72f1b42d0fb5db23119b347fa33cd39d8875e",
    "execution": {
     "iopub.execute_input": "2021-12-08T18:15:26.853227Z",
     "iopub.status.busy": "2021-12-08T18:15:26.852821Z",
     "iopub.status.idle": "2021-12-08T18:15:26.863513Z",
     "shell.execute_reply": "2021-12-08T18:15:26.862847Z",
     "shell.execute_reply.started": "2021-12-08T18:15:26.853167Z"
    }
   },
   "outputs": [],
   "source": [
    "def linear_forward(A, W, b):\n",
    "    Z = np.dot(W,A) +b\n",
    "    cache = (A, W, b)\n",
    "    assert(Z.shape == (W.shape[0], A.shape[1]))\n",
    "    return Z, cache\n",
    "\n",
    "def linear_activation_forward(A_prev, W, b, activation):\n",
    "    if activation == \"sigmoid\":\n",
    "        # Inputs: \"A_prev, W, b\". Outputs: \"A, activation_cache\".\n",
    "        Z, linear_cache = linear_forward(A_prev, W, b)\n",
    "        A, activation_cache = sigmoid(Z)\n",
    "    elif activation == \"relu\":\n",
    "        # Inputs: \"A_prev, W, b\". Outputs: \"A, activation_cache\".\n",
    "        Z, linear_cache = linear_forward(A_prev, W, b)\n",
    "        #print(\"Z=\"+str(Z))\n",
    "        A, activation_cache = relu(Z) \n",
    "    elif activation == \"softmax\":\n",
    "        # Inputs: \"A_prev, W, b\". Outputs: \"A, activation_cache\".\n",
    "        Z, linear_cache = linear_forward(A_prev, W, b)\n",
    "        A, activation_cache = softmax(Z)\n",
    "    cache = (linear_cache, activation_cache)\n",
    "    return A, cache\n",
    "\n",
    "def L_model_forward(X, parameters):\n",
    "    caches = []\n",
    "    A = X\n",
    "    L = len(parameters) // 2                  # number of layers in the neural network\n",
    "    for l in range(1, L):\n",
    "        A_prev = A \n",
    "        A, cache = linear_activation_forward(A_prev, parameters['W' + str(l)], parameters['b' + str(l)], activation = \"relu\")\n",
    "        caches.append(cache)\n",
    "    AL, cache = linear_activation_forward(A, parameters['W' + str(L)], parameters['b' + str(L)], activation = \"softmax\")\n",
    "    caches.append(cache)               \n",
    "    return AL, caches"
   ]
  },
  {
   "cell_type": "markdown",
   "metadata": {},
   "source": [
    "# Optimizers"
   ]
  },
  {
   "cell_type": "code",
   "execution_count": null,
   "metadata": {},
   "outputs": [],
   "source": [
    "\n",
    "    \n",
    "class Optimizers:\n",
    "\n",
    "    def __init__(self, num_weight, learning_rate):\n",
    "        self.m = [0] * num_weight\n",
    "        self.v = [0] * num_weight\n",
    "        self.t = 1\n",
    "        self.learning_rate = learning_rate\n",
    "        \n",
    "    def Adam(self, params, grads, beta1 = 0.9,beta2 = 0.999):\n",
    "        \"\"\" Adam optimizer, bias correction is implemented. \"\"\"\n",
    "      \n",
    "        updated_params = []\n",
    "        \n",
    "        for  i, (param, grad) in enumerate(zip(params, grads)):\n",
    "          \n",
    "          self.m[i] = beta1 * self.m[i] + (1-beta1) * grad          \n",
    "          self.v[i] = beta2 * self.v[i] + (1-beta2) * grad **2\n",
    "          m_corrected = self.m[i] / (1-beta1**self.t)\n",
    "          v_corrected = self.v[i] / (1-beta2**self.t)\n",
    "          param += -self.learning_rate * m_corrected / (np.sqrt(v_corrected) + 1e-8)\n",
    "          updated_params.append(\n",
    "            param \n",
    "          )\n",
    "          \n",
    "        self.t +=1\n",
    "        \n",
    "        return updated_params\n",
    "    \n",
    "      def SGD( params, grads):  \"\"\" Stochastic gradient descent \"\"\"\n",
    "   \n",
    "    updated_params = []\n",
    "\n",
    "    for param, grad  in zip(params, grads):            \n",
    "        delta = learning_rate * grad\n",
    "        param -= delta \n",
    "\n",
    "        updated_params.apppend(\n",
    "          param\n",
    "        )\n",
    "\n",
    "        return updated_params"
   ]
  },
  {
   "cell_type": "code",
   "execution_count": 10,
   "metadata": {
    "_uuid": "ea90857ffd7c47f3162565d5d091c5d765ad3d03",
    "execution": {
     "iopub.execute_input": "2021-12-08T18:15:26.864853Z",
     "iopub.status.busy": "2021-12-08T18:15:26.864436Z",
     "iopub.status.idle": "2021-12-08T18:15:26.878612Z",
     "shell.execute_reply": "2021-12-08T18:15:26.877761Z",
     "shell.execute_reply.started": "2021-12-08T18:15:26.864796Z"
    }
   },
   "outputs": [],
   "source": [
    "\n",
    "def compute_cost(AL, Y):\n",
    "    \n",
    "    m = Y.shape[1]\n",
    "    cost = (-1 / m) * np.sum(np.multiply(Y, np.log(AL)) + np.multiply(1 - Y, np.log(1 - AL)))\n",
    "    return cost"
   ]
  },
  {
   "cell_type": "code",
   "execution_count": 11,
   "metadata": {
    "_uuid": "3689b433fe672644e57e46e03c94c52891af123e",
    "execution": {
     "iopub.execute_input": "2021-12-08T18:15:26.880381Z",
     "iopub.status.busy": "2021-12-08T18:15:26.879825Z",
     "iopub.status.idle": "2021-12-08T18:15:26.892135Z",
     "shell.execute_reply": "2021-12-08T18:15:26.891290Z",
     "shell.execute_reply.started": "2021-12-08T18:15:26.880322Z"
    }
   },
   "outputs": [],
   "source": [
    "def linear_backward(dZ, cache):\n",
    "    A_prev, W, b = cache\n",
    "    m = A_prev.shape[1]\n",
    "    dW = 1./m * np.dot(dZ,A_prev.T)  \n",
    "    db = (1/m)*np.sum(dZ, axis=1, keepdims=True);\n",
    "    dA_prev = np.dot(W.T,dZ)\n",
    "    return dA_prev, dW, db\n",
    "\n",
    "def linear_activation_backward(dA, cache, activation):\n",
    "    linear_cache, activation_cache = cache\n",
    "    if activation == \"relu\":\n",
    "        dZ = relu_backward(dA, activation_cache)\n",
    "        dA_prev, dW, db = linear_backward(dZ, linear_cache)  \n",
    "    elif activation == \"sigmoid\":\n",
    "        dZ = sigmoid_backward(dA, activation_cache)\n",
    "        dA_prev, dW, db = linear_backward(dZ, linear_cache)\n",
    "    elif activation == \"softmax\":\n",
    "        dZ = softmax_backward(dA, activation_cache)\n",
    "        dA_prev, dW, db = linear_backward(dZ, linear_cache)\n",
    "    return dA_prev, dW, db\n",
    "\n",
    "def L_model_backward(AL, Y, caches):\n",
    "    grads = {}\n",
    "    L = len(caches)\n",
    "    dAL = - (np.divide(Y, AL) - np.divide(1 - Y, 1 - AL))\n",
    "    M=len(layers_dims)\n",
    "    current_cache = caches[M-2]\n",
    "    grads[\"dA\"+str(M-1)], grads[\"dW\"+str(M-1)], grads[\"db\"+str(M-1)] = linear_activation_backward(dAL, current_cache, activation = \"softmax\")#M-1\n",
    "    for l in reversed(range(L-1)):\n",
    "        current_cache = caches[l]\n",
    "        dA_prev_temp, dW_temp, db_temp = linear_activation_backward(grads[\"dA\" + str(l + 2)], current_cache, activation = \"relu\")\n",
    "        grads[\"dA\" + str(l + 1)] = dA_prev_temp\n",
    "        grads[\"dW\" + str(l + 1)] = dW_temp\n",
    "        grads[\"db\" + str(l + 1)] = db_temp\n",
    "    \n",
    "    return grads"
   ]
  },
  {
   "cell_type": "code",
   "execution_count": 12,
   "metadata": {
    "_uuid": "81cb4e11c50150194bb6e340f748d4bdb3da0ed3",
    "execution": {
     "iopub.execute_input": "2021-12-08T18:15:26.893587Z",
     "iopub.status.busy": "2021-12-08T18:15:26.893206Z",
     "iopub.status.idle": "2021-12-08T18:15:26.908006Z",
     "shell.execute_reply": "2021-12-08T18:15:26.906946Z",
     "shell.execute_reply.started": "2021-12-08T18:15:26.893545Z"
    }
   },
   "outputs": [],
   "source": [
    "def update_parameters(parameters, grads, learning_rate):\n",
    "    for l in range(len_update-1):\n",
    "        parameters[\"W\" + str(l+1)] =parameters[\"W\" + str(l+1)] - (learning_rate*grads[\"dW\" + str(l+1)])\n",
    "        parameters[\"b\" + str(l+1)] = parameters[\"b\" + str(l+1)] - (learning_rate*grads[\"db\" + str(l+1)])\n",
    "    return parameters"
   ]
  },
  {
   "cell_type": "code",
   "execution_count": 13,
   "metadata": {
    "_uuid": "b942f22a4c6e525e14c81cc0856d0edb7e4af42d",
    "execution": {
     "iopub.execute_input": "2021-12-08T18:15:26.909337Z",
     "iopub.status.busy": "2021-12-08T18:15:26.908992Z",
     "iopub.status.idle": "2021-12-08T18:15:26.917892Z",
     "shell.execute_reply": "2021-12-08T18:15:26.917129Z",
     "shell.execute_reply.started": "2021-12-08T18:15:26.909300Z"
    }
   },
   "outputs": [],
   "source": [
    "def plot_graph(cost_plot):\n",
    "       \n",
    "    x_value=list(range(1,len(cost_plot)+1))\n",
    "    plt.xlabel('iteration')\n",
    "    plt.ylabel('cost')\n",
    "    plt.plot(x_value,cost_plot,0.,color='g')\n"
   ]
  },
  {
   "cell_type": "code",
   "execution_count": 14,
   "metadata": {
    "_uuid": "60bb0e22b781b6b5c3a4f5c5457d6186e3180610",
    "execution": {
     "iopub.execute_input": "2021-12-08T18:15:26.919111Z",
     "iopub.status.busy": "2021-12-08T18:15:26.918754Z",
     "iopub.status.idle": "2021-12-08T18:15:26.929437Z",
     "shell.execute_reply": "2021-12-08T18:15:26.928550Z",
     "shell.execute_reply.started": "2021-12-08T18:15:26.919072Z"
    }
   },
   "outputs": [],
   "source": [
    "layers_dims = [784,500,400,300,100,10]\n",
    "len_update=len(layers_dims)"
   ]
  },
  {
   "cell_type": "code",
   "execution_count": 15,
   "metadata": {
    "_uuid": "1eae0283381ed4845b3e31ad02d8a00dd8af6237",
    "execution": {
     "iopub.execute_input": "2021-12-08T18:15:26.931655Z",
     "iopub.status.busy": "2021-12-08T18:15:26.931164Z",
     "iopub.status.idle": "2021-12-08T18:15:26.943641Z",
     "shell.execute_reply": "2021-12-08T18:15:26.942908Z",
     "shell.execute_reply.started": "2021-12-08T18:15:26.931557Z"
    }
   },
   "outputs": [],
   "source": [
    "\n",
    "def L_layer_model(X, Y, layers_dims, learning_rate , num_iterations , print_cost=False):#lr was 0.009\n",
    "    costs = []  \n",
    "    cost_plot=np.zeros(num_iterations)\n",
    "    parameters = initialize_parameters_deep(layers_dims)\n",
    "    for i in range(0, num_iterations):\n",
    "        AL, caches = L_model_forward(X, parameters)\n",
    "        cost =compute_cost(AL, Y)\n",
    "        grads = L_model_backward(AL, Y, caches)\n",
    "        parameters = update_parameters(parameters, grads, learning_rate) \n",
    "        cost_plot[i]=cost;\n",
    "    \n",
    "    plot_graph(cost_plot)\n",
    "    return parameters"
   ]
  }
 ],
 "metadata": {
  "kernelspec": {
   "display_name": "Python 3",
   "language": "python",
   "name": "python3"
  },
  "language_info": {
   "codemirror_mode": {
    "name": "ipython",
    "version": 3
   },
   "file_extension": ".py",
   "mimetype": "text/x-python",
   "name": "python",
   "nbconvert_exporter": "python",
   "pygments_lexer": "ipython3",
   "version": "3.8.8"
  }
 },
 "nbformat": 4,
 "nbformat_minor": 4
}
