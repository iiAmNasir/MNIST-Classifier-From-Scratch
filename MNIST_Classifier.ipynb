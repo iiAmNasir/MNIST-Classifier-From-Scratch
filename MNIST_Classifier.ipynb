{
  "metadata": {
    "kernelspec": {
      "language": "python",
      "display_name": "Python 3",
      "name": "python3"
    },
    "language_info": {
      "name": "python",
      "version": "3.6.6",
      "mimetype": "text/x-python",
      "codemirror_mode": {
        "name": "ipython",
        "version": 3
      },
      "pygments_lexer": "ipython3",
      "nbconvert_exporter": "python",
      "file_extension": ".py"
    },
    "colab": {
      "name": "assignment-3.ipynb",
      "provenance": []
    }
  },
  "nbformat_minor": 0,
  "nbformat": 4,
  "cells": [
    {
      "cell_type": "code",
      "source": [
        "import numpy as np \n",
        "import pandas as pd\n",
        "import math\n",
        "import matplotlib.cm as cm \n",
        "import matplotlib.pyplot as plt\n",
        "import os"
      ],
      "metadata": {
        "_uuid": "8f2839f25d086af736a60e9eeb907d3b93b6e0e5",
        "_cell_guid": "b1076dfc-b9ad-4769-8c92-a6c4dae69d19",
        "execution": {
          "iopub.status.busy": "2021-12-08T17:53:15.884462Z",
          "iopub.execute_input": "2021-12-08T17:53:15.886409Z",
          "iopub.status.idle": "2021-12-08T17:53:15.906309Z",
          "shell.execute_reply.started": "2021-12-08T17:53:15.886345Z",
          "shell.execute_reply": "2021-12-08T17:53:15.905634Z"
        },
        "trusted": true,
        "id": "wxiwJWViVMD0"
      },
      "execution_count": 23,
      "outputs": []
    },
    {
      "cell_type": "code",
      "source": [
        "train_data = pd.read_csv(\"/content/train.csv\")\n",
        "test_data= pd.read_csv(\"/content/test.csv\")\n",
        "train_labels=np.array(train_data.loc[:,'label'])\n",
        "train_data=np.array(train_data.loc[:,train_data.columns!='label'])"
      ],
      "metadata": {
        "_uuid": "062c382401f859f33a1111bd56b6edd464baa258",
        "execution": {
          "iopub.status.busy": "2021-12-08T17:53:15.907266Z",
          "iopub.execute_input": "2021-12-08T17:53:15.907502Z",
          "iopub.status.idle": "2021-12-08T17:53:22.587729Z",
          "shell.execute_reply.started": "2021-12-08T17:53:15.907453Z",
          "shell.execute_reply": "2021-12-08T17:53:22.586823Z"
        },
        "trusted": true,
        "id": "xT_451UbVMD_"
      },
      "execution_count": 24,
      "outputs": []
    },
    {
      "cell_type": "code",
      "source": [
        "index=7;\n",
        "plt.title((train_labels[index]))\n",
        "plt.imshow(train_data[index].reshape(28,28), cmap=cm.binary)"
      ],
      "metadata": {
        "_uuid": "c8b4f3e21900f2b9a63ba02257dc50da13e5652f",
        "execution": {
          "iopub.status.busy": "2021-12-08T17:53:22.588905Z",
          "iopub.execute_input": "2021-12-08T17:53:22.589161Z",
          "iopub.status.idle": "2021-12-08T17:53:22.785240Z",
          "shell.execute_reply.started": "2021-12-08T17:53:22.589112Z",
          "shell.execute_reply": "2021-12-08T17:53:22.784353Z"
        },
        "trusted": true,
        "colab": {
          "base_uri": "https://localhost:8080/",
          "height": 298
        },
        "id": "lT-mzhBbVMEC",
        "outputId": "a95fb16a-5d0a-4726-b4e3-c346f6dc17d9"
      },
      "execution_count": 25,
      "outputs": [
        {
          "output_type": "execute_result",
          "data": {
            "text/plain": [
              "<matplotlib.image.AxesImage at 0x7f3b52007850>"
            ]
          },
          "metadata": {},
          "execution_count": 25
        },
        {
          "output_type": "display_data",
          "data": {
            "image/png": "[encoded data removed]",
            "text/plain": [
              "<Figure size 432x288 with 1 Axes>"
            ]
          },
          "metadata": {
            "needs_background": "light"
          }
        }
      ]
    },
    {
      "cell_type": "code",
      "source": [
        "print(\"train data\")\n",
        "y_value=np.zeros((1,10))\n",
        "for i in range (10):\n",
        "    print(\"occurance of \",i,\"=\",np.count_nonzero(train_labels==i))\n",
        "    y_value[0,i-1]= np.count_nonzero(train_labels==i)\n"
      ],
      "metadata": {
        "_uuid": "3f7e575bd28e367fc72a044179d05104064e403c",
        "execution": {
          "iopub.status.busy": "2021-12-08T17:53:22.786601Z",
          "iopub.execute_input": "2021-12-08T17:53:22.787140Z",
          "iopub.status.idle": "2021-12-08T17:53:22.802678Z",
          "shell.execute_reply.started": "2021-12-08T17:53:22.787081Z",
          "shell.execute_reply": "2021-12-08T17:53:22.801511Z"
        },
        "trusted": true,
        "colab": {
          "base_uri": "https://localhost:8080/",
          "height": 0
        },
        "id": "gIY7UPzgVMEF",
        "outputId": "2892f1bd-a67a-4afb-b7ce-8ddc4fab4683"
      },
      "execution_count": 26,
      "outputs": [
        {
          "output_type": "stream",
          "name": "stdout",
          "text": [
            "train data\n",
            "occurance of  0 = 4132\n",
            "occurance of  1 = 4684\n",
            "occurance of  2 = 4177\n",
            "occurance of  3 = 4351\n",
            "occurance of  4 = 4072\n",
            "occurance of  5 = 3795\n",
            "occurance of  6 = 4137\n",
            "occurance of  7 = 4401\n",
            "occurance of  8 = 4063\n",
            "occurance of  9 = 4188\n"
          ]
        }
      ]
    },
    {
      "cell_type": "code",
      "source": [
        "train_data=np.reshape(train_data,[784,42000])\n",
        "train_label=np.zeros((10,42000))\n",
        "for col in range (42000):\n",
        "    val=train_labels[col]\n",
        "    for row in range (10):\n",
        "        if (val==row):\n",
        "            train_label[val,col]=1\n",
        "print(\"train_data shape=\"+str(np.shape(train_data)))\n",
        "print(\"train_label shape=\"+str(np.shape(train_label)))\n",
        "\n"
      ],
      "metadata": {
        "_uuid": "b133c7e8fe8c3f399ce2aa7bdc29b5c6c81539ad",
        "execution": {
          "iopub.status.busy": "2021-12-08T17:53:22.803710Z",
          "iopub.execute_input": "2021-12-08T17:53:22.804160Z",
          "iopub.status.idle": "2021-12-08T17:53:23.194985Z",
          "shell.execute_reply.started": "2021-12-08T17:53:22.804121Z",
          "shell.execute_reply": "2021-12-08T17:53:23.194309Z"
        },
        "trusted": true,
        "colab": {
          "base_uri": "https://localhost:8080/",
          "height": 0
        },
        "id": "hysvt5XaVMEH",
        "outputId": "b44f3d79-9281-4546-b1a0-79b63e41197a"
      },
      "execution_count": 27,
      "outputs": [
        {
          "output_type": "stream",
          "name": "stdout",
          "text": [
            "train_data shape=(784, 42000)\n",
            "train_label shape=(10, 42000)\n"
          ]
        }
      ]
    },
    {
      "cell_type": "code",
      "source": [
        "\n",
        "def sigmoid(Z):\n",
        "    A = 1/(1+np.exp(-Z))\n",
        "    cache = Z\n",
        "    return A, cache\n",
        "\n",
        "def relu(Z):\n",
        "    A = np.maximum(0,Z)    \n",
        "    cache = Z \n",
        "    return A, cache\n",
        "\n",
        "def softmax(Z):\n",
        "    e_x = np.exp(Z)\n",
        "    A= e_x / np.sum(np.exp(Z))  \n",
        "    cache=Z\n",
        "    return A,cache   "
      ],
      "metadata": {
        "_uuid": "457ba67e9ac9457de158a51dae78a58062082720",
        "execution": {
          "iopub.status.busy": "2021-12-08T17:53:23.195941Z",
          "iopub.execute_input": "2021-12-08T17:53:23.196328Z",
          "iopub.status.idle": "2021-12-08T17:53:23.201450Z",
          "shell.execute_reply.started": "2021-12-08T17:53:23.196289Z",
          "shell.execute_reply": "2021-12-08T17:53:23.200356Z"
        },
        "trusted": true,
        "id": "b4qJBV5kVMEJ"
      },
      "execution_count": 28,
      "outputs": []
    },
    {
      "cell_type": "code",
      "source": [
        "def relu_backward(dA, cache):\n",
        "    Z = cache\n",
        "    dZ = np.array(dA, copy=True)\n",
        "    dZ[Z <= 0] = 0\n",
        "    assert (dZ.shape == Z.shape)\n",
        "    return dZ\n",
        "\n",
        "def sigmoid_backward(dA, cache):    \n",
        "    Z = cache\n",
        "    s = 1/(1+np.exp(-Z))\n",
        "    dZ = dA * s * (1-s)\n",
        "    assert (dZ.shape == Z.shape)\n",
        "    return dZ\n",
        "\n",
        "def softmax_backward(Z,cache):\n",
        "    Z=cache\n",
        "    length=10  \n",
        "    dZ=np.zeros((42000,10))\n",
        "    Z=np.transpose(Z)\n",
        "    for row in range (0,42000):\n",
        "            den=(np.sum(np.exp(Z[row,:])))*(np.sum(np.exp(Z[row,:])))\n",
        "            for col in range (0,10):\n",
        "                sums=0\n",
        "                for j in range (0,10):\n",
        "                    if (j!=col):\n",
        "                        sums=sums+(math.exp(Z[row,j]))\n",
        "                \n",
        "                dZ[row,col]=(math.exp(Z[row,col])*sums)/den           \n",
        "    dZ=np.transpose(dZ)\n",
        "    Z=np.transpose(Z)\n",
        "\n",
        "    assert (dZ.shape == Z.shape)\n",
        "    return dZ"
      ],
      "metadata": {
        "_uuid": "af371709dc246bdb5fcbb1de97a0671d03deff1f",
        "execution": {
          "iopub.status.busy": "2021-12-08T17:53:23.202655Z",
          "iopub.execute_input": "2021-12-08T17:53:23.202915Z",
          "iopub.status.idle": "2021-12-08T17:53:23.214457Z",
          "shell.execute_reply.started": "2021-12-08T17:53:23.202858Z",
          "shell.execute_reply": "2021-12-08T17:53:23.213670Z"
        },
        "trusted": true,
        "id": "auGeDT1vVMEL"
      },
      "execution_count": 29,
      "outputs": []
    },
    {
      "cell_type": "code",
      "source": [
        "def initialize_parameters_deep(layer_dims):\n",
        "    #np.random.seed(1)\n",
        "    parameters = {}\n",
        "    L = len(layer_dims)            # number of layers in the network\n",
        "    \n",
        "    for l in range(1, L):\n",
        "        parameters['W' + str(l)] = np.random.randn(layer_dims[l], layer_dims[l-1]) / np.sqrt(layer_dims[l-1]) #*0.01\n",
        "        parameters['b' + str(l)] = np.zeros((layer_dims[l], 1))\n",
        "    \n",
        "    return parameters"
      ],
      "metadata": {
        "_uuid": "2fd14dce4aa75ceceb2a84ccae4721da7223fcba",
        "execution": {
          "iopub.status.busy": "2021-12-08T17:53:23.215451Z",
          "iopub.execute_input": "2021-12-08T17:53:23.215657Z",
          "iopub.status.idle": "2021-12-08T17:53:23.230113Z",
          "shell.execute_reply.started": "2021-12-08T17:53:23.215620Z",
          "shell.execute_reply": "2021-12-08T17:53:23.229409Z"
        },
        "trusted": true,
        "id": "FWlQiI-YVMEP"
      },
      "execution_count": 30,
      "outputs": []
    },
    {
      "cell_type": "code",
      "source": [
        "def linear_forward(A, W, b):\n",
        "    Z = np.dot(W,A) +b\n",
        "    cache = (A, W, b)\n",
        "    assert(Z.shape == (W.shape[0], A.shape[1]))\n",
        "    return Z, cache\n",
        "\n",
        "def linear_activation_forward(A_prev, W, b, activation):\n",
        "    if activation == \"sigmoid\":\n",
        "        # Inputs: \"A_prev, W, b\". Outputs: \"A, activation_cache\".\n",
        "        Z, linear_cache = linear_forward(A_prev, W, b)\n",
        "        A, activation_cache = sigmoid(Z)\n",
        "    elif activation == \"relu\":\n",
        "        # Inputs: \"A_prev, W, b\". Outputs: \"A, activation_cache\".\n",
        "        Z, linear_cache = linear_forward(A_prev, W, b)\n",
        "        #print(\"Z=\"+str(Z))\n",
        "        A, activation_cache = relu(Z) \n",
        "    elif activation == \"softmax\":\n",
        "        # Inputs: \"A_prev, W, b\". Outputs: \"A, activation_cache\".\n",
        "        Z, linear_cache = linear_forward(A_prev, W, b)\n",
        "        A, activation_cache = softmax(Z)\n",
        "    cache = (linear_cache, activation_cache)\n",
        "    return A, cache\n",
        "\n",
        "def L_model_forward(X, parameters):\n",
        "    caches = []\n",
        "    A = X\n",
        "    L = len(parameters) // 2                  # number of layers in the neural network\n",
        "    for l in range(1, L):\n",
        "        A_prev = A \n",
        "        A, cache = linear_activation_forward(A_prev, parameters['W' + str(l)], parameters['b' + str(l)], activation = \"relu\")\n",
        "        caches.append(cache)\n",
        "    AL, cache = linear_activation_forward(A, parameters['W' + str(L)], parameters['b' + str(L)], activation = \"softmax\")\n",
        "    caches.append(cache)               \n",
        "    return AL, caches"
      ],
      "metadata": {
        "_uuid": "5ee72f1b42d0fb5db23119b347fa33cd39d8875e",
        "execution": {
          "iopub.status.busy": "2021-12-08T17:53:23.231618Z",
          "iopub.execute_input": "2021-12-08T17:53:23.231972Z",
          "iopub.status.idle": "2021-12-08T17:53:23.242686Z",
          "shell.execute_reply.started": "2021-12-08T17:53:23.231910Z",
          "shell.execute_reply": "2021-12-08T17:53:23.241853Z"
        },
        "trusted": true,
        "id": "fTJcEI1iVMES"
      },
      "execution_count": 31,
      "outputs": []
    },
    {
      "cell_type": "code",
      "source": [
        "\n",
        "def compute_cost(AL, Y):\n",
        "    \n",
        "    m = Y.shape[1]\n",
        "    cost = (-1 / m) * np.sum(np.multiply(Y, np.log(AL)) + np.multiply(1 - Y, np.log(1 - AL)))\n",
        "    return cost"
      ],
      "metadata": {
        "_uuid": "ea90857ffd7c47f3162565d5d091c5d765ad3d03",
        "execution": {
          "iopub.status.busy": "2021-12-08T17:53:23.244195Z",
          "iopub.execute_input": "2021-12-08T17:53:23.244656Z",
          "iopub.status.idle": "2021-12-08T17:53:23.255602Z",
          "shell.execute_reply.started": "2021-12-08T17:53:23.244603Z",
          "shell.execute_reply": "2021-12-08T17:53:23.254771Z"
        },
        "trusted": true,
        "id": "LIWAGeQHVMEW"
      },
      "execution_count": 32,
      "outputs": []
    },
    {
      "cell_type": "code",
      "source": [
        "def linear_backward(dZ, cache):\n",
        "    A_prev, W, b = cache\n",
        "    m = A_prev.shape[1]\n",
        "    dW = 1./m * np.dot(dZ,A_prev.T)  \n",
        "    db = (1/m)*np.sum(dZ, axis=1, keepdims=True);\n",
        "    dA_prev = np.dot(W.T,dZ)\n",
        "    return dA_prev, dW, db\n",
        "\n",
        "def linear_activation_backward(dA, cache, activation):\n",
        "    linear_cache, activation_cache = cache\n",
        "    if activation == \"relu\":\n",
        "        dZ = relu_backward(dA, activation_cache)\n",
        "        dA_prev, dW, db = linear_backward(dZ, linear_cache)  \n",
        "    elif activation == \"sigmoid\":\n",
        "        dZ = sigmoid_backward(dA, activation_cache)\n",
        "        dA_prev, dW, db = linear_backward(dZ, linear_cache)\n",
        "    elif activation == \"softmax\":\n",
        "        dZ = softmax_backward(dA, activation_cache)\n",
        "        dA_prev, dW, db = linear_backward(dZ, linear_cache)\n",
        "    return dA_prev, dW, db\n",
        "\n",
        "def L_model_backward(AL, Y, caches):\n",
        "    grads = {}\n",
        "    L = len(caches)\n",
        "    dAL = - (np.divide(Y, AL) - np.divide(1 - Y, 1 - AL))\n",
        "    M=len(layers_dims)\n",
        "    current_cache = caches[M-2]\n",
        "    grads[\"dA\"+str(M-1)], grads[\"dW\"+str(M-1)], grads[\"db\"+str(M-1)] = linear_activation_backward(dAL, current_cache, activation = \"softmax\")#M-1\n",
        "    for l in reversed(range(L-1)):\n",
        "        current_cache = caches[l]\n",
        "        dA_prev_temp, dW_temp, db_temp = linear_activation_backward(grads[\"dA\" + str(l + 2)], current_cache, activation = \"relu\")\n",
        "        grads[\"dA\" + str(l + 1)] = dA_prev_temp\n",
        "        grads[\"dW\" + str(l + 1)] = dW_temp\n",
        "        grads[\"db\" + str(l + 1)] = db_temp\n",
        "    \n",
        "    return grads"
      ],
      "metadata": {
        "_uuid": "3689b433fe672644e57e46e03c94c52891af123e",
        "execution": {
          "iopub.status.busy": "2021-12-08T17:53:23.256620Z",
          "iopub.execute_input": "2021-12-08T17:53:23.256950Z",
          "iopub.status.idle": "2021-12-08T17:53:23.267806Z",
          "shell.execute_reply.started": "2021-12-08T17:53:23.256883Z",
          "shell.execute_reply": "2021-12-08T17:53:23.267109Z"
        },
        "trusted": true,
        "id": "Hwt8sGfVVMEX"
      },
      "execution_count": 33,
      "outputs": []
    },
    {
      "cell_type": "code",
      "source": [
        "def update_parameters(parameters, grads, learning_rate):\n",
        "    for l in range(len_update-1):\n",
        "        parameters[\"W\" + str(l+1)] =parameters[\"W\" + str(l+1)] - (learning_rate*grads[\"dW\" + str(l+1)])\n",
        "        parameters[\"b\" + str(l+1)] = parameters[\"b\" + str(l+1)] - (learning_rate*grads[\"db\" + str(l+1)])\n",
        "    return parameters"
      ],
      "metadata": {
        "_uuid": "81cb4e11c50150194bb6e340f748d4bdb3da0ed3",
        "execution": {
          "iopub.status.busy": "2021-12-08T17:53:23.269559Z",
          "iopub.execute_input": "2021-12-08T17:53:23.270034Z",
          "iopub.status.idle": "2021-12-08T17:53:23.279567Z",
          "shell.execute_reply.started": "2021-12-08T17:53:23.269960Z",
          "shell.execute_reply": "2021-12-08T17:53:23.279013Z"
        },
        "trusted": true,
        "id": "w0IYqWfwVMEZ"
      },
      "execution_count": 34,
      "outputs": []
    },
    {
      "cell_type": "code",
      "source": [
        "def plot_graph(cost_plot):\n",
        "       \n",
        "    x_value=list(range(1,len(cost_plot)+1))\n",
        "    plt.xlabel('iteration')\n",
        "    plt.ylabel('cost')\n",
        "    plt.plot(x_value,cost_plot,0.,color='g')\n"
      ],
      "metadata": {
        "_uuid": "b942f22a4c6e525e14c81cc0856d0edb7e4af42d",
        "execution": {
          "iopub.status.busy": "2021-12-08T17:53:23.280520Z",
          "iopub.execute_input": "2021-12-08T17:53:23.280931Z",
          "iopub.status.idle": "2021-12-08T17:53:23.289474Z",
          "shell.execute_reply.started": "2021-12-08T17:53:23.280887Z",
          "shell.execute_reply": "2021-12-08T17:53:23.288521Z"
        },
        "trusted": true,
        "id": "VGvCUXioVMEa"
      },
      "execution_count": 35,
      "outputs": []
    },
    {
      "cell_type": "code",
      "source": [
        "layers_dims = [784,500,400,300,100,10]\n",
        "len_update=len(layers_dims)"
      ],
      "metadata": {
        "_uuid": "60bb0e22b781b6b5c3a4f5c5457d6186e3180610",
        "execution": {
          "iopub.status.busy": "2021-12-08T17:53:23.290827Z",
          "iopub.execute_input": "2021-12-08T17:53:23.291221Z",
          "iopub.status.idle": "2021-12-08T17:53:23.298750Z",
          "shell.execute_reply.started": "2021-12-08T17:53:23.291029Z",
          "shell.execute_reply": "2021-12-08T17:53:23.298006Z"
        },
        "trusted": true,
        "id": "e-da84haVMEb"
      },
      "execution_count": 36,
      "outputs": []
    },
    {
      "cell_type": "code",
      "source": [
        "\n",
        "def L_layer_model(X, Y, layers_dims, learning_rate , num_iterations , print_cost=False):#lr was 0.009\n",
        "    costs = []  \n",
        "    cost_plot=np.zeros(num_iterations)\n",
        "    parameters = initialize_parameters_deep(layers_dims)\n",
        "    for i in range(0, num_iterations):\n",
        "        AL, caches = L_model_forward(X, parameters)\n",
        "        cost =compute_cost(AL, Y)\n",
        "        grads = L_model_backward(AL, Y, caches)\n",
        "        parameters = update_parameters(parameters, grads, learning_rate) \n",
        "        cost_plot[i]=cost;\n",
        "    \n",
        "    plot_graph(cost_plot)\n",
        "    return parameters"
      ],
      "metadata": {
        "_uuid": "1eae0283381ed4845b3e31ad02d8a00dd8af6237",
        "execution": {
          "iopub.status.busy": "2021-12-08T17:53:23.299978Z",
          "iopub.execute_input": "2021-12-08T17:53:23.300349Z",
          "iopub.status.idle": "2021-12-08T17:53:23.310970Z",
          "shell.execute_reply.started": "2021-12-08T17:53:23.300156Z",
          "shell.execute_reply": "2021-12-08T17:53:23.310000Z"
        },
        "trusted": true,
        "id": "fR-iWSWOVMEc"
      },
      "execution_count": 37,
      "outputs": []
    },
    {
      "cell_type": "code",
      "source": [
        "parameters = L_layer_model(train_data, train_label, layers_dims,learning_rate = 0.0005, num_iterations =35 , print_cost = True) "
      ],
      "metadata": {
        "_uuid": "b560c8e376f731e4275596e49cf2acba5a3bbea7",
        "execution": {
          "iopub.status.busy": "2021-12-08T17:53:23.312233Z",
          "iopub.execute_input": "2021-12-08T17:53:23.312603Z",
          "iopub.status.idle": "2021-12-08T17:58:31.910637Z",
          "shell.execute_reply.started": "2021-12-08T17:53:23.312430Z",
          "shell.execute_reply": "2021-12-08T17:58:31.909922Z"
        },
        "trusted": true,
        "colab": {
          "base_uri": "https://localhost:8080/",
          "height": 278
        },
        "id": "r7Q8dDHVVMEd",
        "outputId": "572fd74f-2e5d-464b-f22c-a7c96b66b4b7"
      },
      "execution_count": 38,
      "outputs": [
        {
          "output_type": "display_data",
          "data": {
            "image/png": "[encoded data removed]",
            "text/plain": [
              "<Figure size 432x288 with 1 Axes>"
            ]
          },
          "metadata": {
            "needs_background": "light"
          }
        }
      ]
    },
    {
      "cell_type": "code",
      "source": [
        ""
      ],
      "metadata": {
        "id": "1-GxjAsxVMEe"
      },
      "execution_count": null,
      "outputs": []
    }
  ]
}